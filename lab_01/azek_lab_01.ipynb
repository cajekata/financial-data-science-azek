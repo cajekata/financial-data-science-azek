{
 "cells": [
  {
   "cell_type": "code",
   "execution_count": 1,
   "metadata": {},
   "outputs": [],
   "source": [
    "#-*- coding: utf-8 -*-"
   ]
  },
  {
   "cell_type": "markdown",
   "metadata": {},
   "source": [
    "<img align=\"right\" style=\"max-width: 200px; height: auto\" src=\"cfds_logo.png\">\n",
    "\n",
    "###  Lab 01 - \"Examplary Financial Data Science Process\"\n",
    "\n",
    "AZEK Seminar on \"Introduction to Financial Data Science\", Nov. 20th, 2019, Geneva, Switzerland "
   ]
  },
  {
   "cell_type": "markdown",
   "metadata": {},
   "source": [
    "In this introductory lab, we create our first **financial data science process**. The main objective of this third lab is to walk you through the general process of implementing and evaluating a simple **trend-following** trading strategy. To achieve this, we will follow the distinct process steps as outlined below:"
   ]
  },
  {
   "cell_type": "markdown",
   "metadata": {},
   "source": [
    "<img align=\"middle\" style=\"max-width: 600px; height: auto\" src=\"fds_process.png\">"
   ]
  },
  {
   "cell_type": "markdown",
   "metadata": {},
   "source": [
    "As always, pls. don't hesitate to ask all your questions either during the lab or send us an email via marco.schreyer@fds.ai or damian.borth@fds.ai."
   ]
  },
  {
   "cell_type": "markdown",
   "metadata": {},
   "source": [
    "### Lab Objectives:"
   ]
  },
  {
   "cell_type": "markdown",
   "metadata": {},
   "source": [
    "After today's lab you should be able to:\n",
    "    \n",
    "> 1. Implement a **trend-following trading strategy** and apply it to distinct financial instruments.\n",
    "> 2. Convert the trading strategy results into **trade signals** to be used in backtest.\n",
    "> 3. Understand how to use the **python backtesting bt** library to backtest the implemented strategy.\n",
    "> 4. Interpret the backtests results using the distinct **backtest performance** measures."
   ]
  },
  {
   "cell_type": "markdown",
   "metadata": {},
   "source": [
    "Before we start let's watch a motivational video:"
   ]
  },
  {
   "cell_type": "code",
   "execution_count": 2,
   "metadata": {},
   "outputs": [],
   "source": [
    "from IPython.display import YouTubeVideo\n",
    "# Nvidia GTC 2017: \"I Am AI\" Opening in Keynote\"\n",
    "# YouTubeVideo('SUNPrR4o5ZA', width=800, height=600)"
   ]
  },
  {
   "cell_type": "markdown",
   "metadata": {},
   "source": [
    "### Step 0: Setup of the Analysis Environment"
   ]
  },
  {
   "cell_type": "markdown",
   "metadata": {},
   "source": [
    "Similar to the previous labs, we need to import a couple of Python libraries that allow for data analysis and data visualization. In this lab will use the pandas, numpy, quandl, bt and the matplotlib library. Let's import the libraries by the execution of the statements below:"
   ]
  },
  {
   "cell_type": "code",
   "execution_count": 3,
   "metadata": {},
   "outputs": [],
   "source": [
    "# import python utility libraries\n",
    "import os as os\n",
    "import datetime as dt\n",
    "\n",
    "# import python data science libraries\n",
    "import pandas as pd\n",
    "import numpy as np\n",
    "\n",
    "# import the quandl financial data library\n",
    "import quandl as ql\n",
    "\n",
    "# import the Python bt backtest library\n",
    "import bt as bt\n",
    "\n",
    "# import the matplotlib library\n",
    "import matplotlib.pyplot as plt"
   ]
  },
  {
   "cell_type": "markdown",
   "metadata": {},
   "source": [
    "Let's also set a couple of general plot parameters:"
   ]
  },
  {
   "cell_type": "code",
   "execution_count": 4,
   "metadata": {},
   "outputs": [],
   "source": [
    "# set general plot parameters\n",
    "plt.style.use('seaborn')\n",
    "plt.rcParams['figure.figsize'] = [10, 5]\n",
    "plt.rcParams['figure.dpi']= 150"
   ]
  },
  {
   "cell_type": "markdown",
   "metadata": {},
   "source": [
    "Enable inline Jupyter notebook plotting:"
   ]
  },
  {
   "cell_type": "code",
   "execution_count": 5,
   "metadata": {},
   "outputs": [],
   "source": [
    "%matplotlib inline"
   ]
  },
  {
   "cell_type": "markdown",
   "metadata": {},
   "source": [
    "Suppress potential warnings due to recent library enhancements:"
   ]
  },
  {
   "cell_type": "code",
   "execution_count": 6,
   "metadata": {},
   "outputs": [],
   "source": [
    "import warnings\n",
    "warnings.filterwarnings('ignore')"
   ]
  },
  {
   "cell_type": "markdown",
   "metadata": {},
   "source": [
    "Create a **dataset** sub-folder that we will use to store the financial data downloaded:"
   ]
  },
  {
   "cell_type": "code",
   "execution_count": 7,
   "metadata": {},
   "outputs": [],
   "source": [
    "if not os.path.exists('./datasets'): os.makedirs('./datasets')"
   ]
  },
  {
   "cell_type": "markdown",
   "metadata": {},
   "source": [
    "### Step 1: Aquire the Financial Data"
   ]
  },
  {
   "cell_type": "markdown",
   "metadata": {},
   "source": [
    "Init the \"Quandl\" financial data download API and set the corresponding API key. If you haven't registered for a quandl API key yet: Visit the quandl webpage (https://www.quandl.com/) and sign up for an **Academic** account (indicating that you will use the data solely in an academic context). \n",
    "\n",
    "Once you did register, you will receive an API key that can be used to download financial data provided by quandl."
   ]
  },
  {
   "cell_type": "code",
   "execution_count": 8,
   "metadata": {},
   "outputs": [],
   "source": [
    "#ql.ApiConfig.api_key = # '<your API key here>'\n",
    "ql.ApiConfig.api_key = 'xn6g-K_ebmMgSJRTCSUk'"
   ]
  },
  {
   "cell_type": "markdown",
   "metadata": {},
   "source": [
    "Let's now specify the start date and end date of the data download. We aim to download market price data starting from the **31.12.1990** until the **31.12.2017** in order to extensively test the momentum trading strategy that we aim to implement:"
   ]
  },
  {
   "cell_type": "code",
   "execution_count": 9,
   "metadata": {},
   "outputs": [],
   "source": [
    "start_date = dt.datetime(1990, 12, 31)\n",
    "end_date = dt.datetime(2017, 12, 31)"
   ]
  },
  {
   "cell_type": "markdown",
   "metadata": {},
   "source": [
    "Download the **daily** \"International Business Machines\" (IBM) market data of the defined timeframe using the Quandl API:"
   ]
  },
  {
   "cell_type": "code",
   "execution_count": 10,
   "metadata": {},
   "outputs": [],
   "source": [
    "# download ibm market data\n",
    "ibm_data = ql.get('WIKI/IBM', start_date=start_date, end_date=end_date, collapse='daily')"
   ]
  },
  {
   "cell_type": "markdown",
   "metadata": {},
   "source": [
    "### Step 2: Pre-Process the Financial Data"
   ]
  },
  {
   "cell_type": "markdown",
   "metadata": {},
   "source": [
    "Inspect the top 10 records of the \"IBM\" data downloaded:"
   ]
  },
  {
   "cell_type": "code",
   "execution_count": 11,
   "metadata": {},
   "outputs": [
    {
     "data": {
      "text/html": [
       "<div>\n",
       "<style scoped>\n",
       "    .dataframe tbody tr th:only-of-type {\n",
       "        vertical-align: middle;\n",
       "    }\n",
       "\n",
       "    .dataframe tbody tr th {\n",
       "        vertical-align: top;\n",
       "    }\n",
       "\n",
       "    .dataframe thead th {\n",
       "        text-align: right;\n",
       "    }\n",
       "</style>\n",
       "<table border=\"1\" class=\"dataframe\">\n",
       "  <thead>\n",
       "    <tr style=\"text-align: right;\">\n",
       "      <th></th>\n",
       "      <th>Open</th>\n",
       "      <th>High</th>\n",
       "      <th>Low</th>\n",
       "      <th>Close</th>\n",
       "      <th>Volume</th>\n",
       "      <th>Ex-Dividend</th>\n",
       "      <th>Split Ratio</th>\n",
       "      <th>Adj. Open</th>\n",
       "      <th>Adj. High</th>\n",
       "      <th>Adj. Low</th>\n",
       "      <th>Adj. Close</th>\n",
       "      <th>Adj. Volume</th>\n",
       "    </tr>\n",
       "    <tr>\n",
       "      <th>Date</th>\n",
       "      <th></th>\n",
       "      <th></th>\n",
       "      <th></th>\n",
       "      <th></th>\n",
       "      <th></th>\n",
       "      <th></th>\n",
       "      <th></th>\n",
       "      <th></th>\n",
       "      <th></th>\n",
       "      <th></th>\n",
       "      <th></th>\n",
       "      <th></th>\n",
       "    </tr>\n",
       "  </thead>\n",
       "  <tbody>\n",
       "    <tr>\n",
       "      <th>1990-12-31</th>\n",
       "      <td>113.37</td>\n",
       "      <td>113.50</td>\n",
       "      <td>112.87</td>\n",
       "      <td>113.00</td>\n",
       "      <td>461300.0</td>\n",
       "      <td>0.0</td>\n",
       "      <td>1.0</td>\n",
       "      <td>17.120320</td>\n",
       "      <td>17.139951</td>\n",
       "      <td>17.044813</td>\n",
       "      <td>17.064445</td>\n",
       "      <td>1845200.0</td>\n",
       "    </tr>\n",
       "    <tr>\n",
       "      <th>1991-01-02</th>\n",
       "      <td>112.87</td>\n",
       "      <td>113.75</td>\n",
       "      <td>112.12</td>\n",
       "      <td>112.12</td>\n",
       "      <td>1037700.0</td>\n",
       "      <td>0.0</td>\n",
       "      <td>1.0</td>\n",
       "      <td>17.044813</td>\n",
       "      <td>17.177704</td>\n",
       "      <td>16.931554</td>\n",
       "      <td>16.931554</td>\n",
       "      <td>4150800.0</td>\n",
       "    </tr>\n",
       "    <tr>\n",
       "      <th>1991-01-03</th>\n",
       "      <td>112.37</td>\n",
       "      <td>113.87</td>\n",
       "      <td>112.25</td>\n",
       "      <td>112.50</td>\n",
       "      <td>1307400.0</td>\n",
       "      <td>0.0</td>\n",
       "      <td>1.0</td>\n",
       "      <td>16.969307</td>\n",
       "      <td>17.195826</td>\n",
       "      <td>16.951185</td>\n",
       "      <td>16.988938</td>\n",
       "      <td>5229600.0</td>\n",
       "    </tr>\n",
       "    <tr>\n",
       "      <th>1991-01-04</th>\n",
       "      <td>112.75</td>\n",
       "      <td>113.00</td>\n",
       "      <td>111.87</td>\n",
       "      <td>112.12</td>\n",
       "      <td>1085100.0</td>\n",
       "      <td>0.0</td>\n",
       "      <td>1.0</td>\n",
       "      <td>17.026692</td>\n",
       "      <td>17.064445</td>\n",
       "      <td>16.893800</td>\n",
       "      <td>16.931554</td>\n",
       "      <td>4340400.0</td>\n",
       "    </tr>\n",
       "    <tr>\n",
       "      <th>1991-01-07</th>\n",
       "      <td>111.37</td>\n",
       "      <td>111.87</td>\n",
       "      <td>110.00</td>\n",
       "      <td>110.25</td>\n",
       "      <td>1189400.0</td>\n",
       "      <td>0.0</td>\n",
       "      <td>1.0</td>\n",
       "      <td>16.818294</td>\n",
       "      <td>16.893800</td>\n",
       "      <td>16.611407</td>\n",
       "      <td>16.649160</td>\n",
       "      <td>4757600.0</td>\n",
       "    </tr>\n",
       "    <tr>\n",
       "      <th>1991-01-08</th>\n",
       "      <td>110.37</td>\n",
       "      <td>110.37</td>\n",
       "      <td>108.75</td>\n",
       "      <td>109.00</td>\n",
       "      <td>1715500.0</td>\n",
       "      <td>0.0</td>\n",
       "      <td>1.0</td>\n",
       "      <td>16.667281</td>\n",
       "      <td>16.667281</td>\n",
       "      <td>16.422641</td>\n",
       "      <td>16.460394</td>\n",
       "      <td>6862000.0</td>\n",
       "    </tr>\n",
       "    <tr>\n",
       "      <th>1991-01-09</th>\n",
       "      <td>109.75</td>\n",
       "      <td>110.75</td>\n",
       "      <td>106.75</td>\n",
       "      <td>106.87</td>\n",
       "      <td>2078000.0</td>\n",
       "      <td>0.0</td>\n",
       "      <td>1.0</td>\n",
       "      <td>16.573653</td>\n",
       "      <td>16.724666</td>\n",
       "      <td>16.120615</td>\n",
       "      <td>16.138736</td>\n",
       "      <td>8312000.0</td>\n",
       "    </tr>\n",
       "    <tr>\n",
       "      <th>1991-01-10</th>\n",
       "      <td>107.62</td>\n",
       "      <td>108.37</td>\n",
       "      <td>107.25</td>\n",
       "      <td>108.37</td>\n",
       "      <td>962000.0</td>\n",
       "      <td>0.0</td>\n",
       "      <td>1.0</td>\n",
       "      <td>16.251996</td>\n",
       "      <td>16.365256</td>\n",
       "      <td>16.196121</td>\n",
       "      <td>16.365256</td>\n",
       "      <td>3848000.0</td>\n",
       "    </tr>\n",
       "    <tr>\n",
       "      <th>1991-01-11</th>\n",
       "      <td>107.87</td>\n",
       "      <td>108.25</td>\n",
       "      <td>107.75</td>\n",
       "      <td>108.12</td>\n",
       "      <td>608700.0</td>\n",
       "      <td>0.0</td>\n",
       "      <td>1.0</td>\n",
       "      <td>16.289749</td>\n",
       "      <td>16.347134</td>\n",
       "      <td>16.271628</td>\n",
       "      <td>16.327502</td>\n",
       "      <td>2434800.0</td>\n",
       "    </tr>\n",
       "    <tr>\n",
       "      <th>1991-01-14</th>\n",
       "      <td>106.87</td>\n",
       "      <td>107.12</td>\n",
       "      <td>105.50</td>\n",
       "      <td>106.75</td>\n",
       "      <td>1746500.0</td>\n",
       "      <td>0.0</td>\n",
       "      <td>1.0</td>\n",
       "      <td>16.138736</td>\n",
       "      <td>16.176490</td>\n",
       "      <td>15.931849</td>\n",
       "      <td>16.120615</td>\n",
       "      <td>6986000.0</td>\n",
       "    </tr>\n",
       "  </tbody>\n",
       "</table>\n",
       "</div>"
      ],
      "text/plain": [
       "              Open    High     Low   Close     Volume  Ex-Dividend  \\\n",
       "Date                                                                 \n",
       "1990-12-31  113.37  113.50  112.87  113.00   461300.0          0.0   \n",
       "1991-01-02  112.87  113.75  112.12  112.12  1037700.0          0.0   \n",
       "1991-01-03  112.37  113.87  112.25  112.50  1307400.0          0.0   \n",
       "1991-01-04  112.75  113.00  111.87  112.12  1085100.0          0.0   \n",
       "1991-01-07  111.37  111.87  110.00  110.25  1189400.0          0.0   \n",
       "1991-01-08  110.37  110.37  108.75  109.00  1715500.0          0.0   \n",
       "1991-01-09  109.75  110.75  106.75  106.87  2078000.0          0.0   \n",
       "1991-01-10  107.62  108.37  107.25  108.37   962000.0          0.0   \n",
       "1991-01-11  107.87  108.25  107.75  108.12   608700.0          0.0   \n",
       "1991-01-14  106.87  107.12  105.50  106.75  1746500.0          0.0   \n",
       "\n",
       "            Split Ratio  Adj. Open  Adj. High   Adj. Low  Adj. Close  \\\n",
       "Date                                                                   \n",
       "1990-12-31          1.0  17.120320  17.139951  17.044813   17.064445   \n",
       "1991-01-02          1.0  17.044813  17.177704  16.931554   16.931554   \n",
       "1991-01-03          1.0  16.969307  17.195826  16.951185   16.988938   \n",
       "1991-01-04          1.0  17.026692  17.064445  16.893800   16.931554   \n",
       "1991-01-07          1.0  16.818294  16.893800  16.611407   16.649160   \n",
       "1991-01-08          1.0  16.667281  16.667281  16.422641   16.460394   \n",
       "1991-01-09          1.0  16.573653  16.724666  16.120615   16.138736   \n",
       "1991-01-10          1.0  16.251996  16.365256  16.196121   16.365256   \n",
       "1991-01-11          1.0  16.289749  16.347134  16.271628   16.327502   \n",
       "1991-01-14          1.0  16.138736  16.176490  15.931849   16.120615   \n",
       "\n",
       "            Adj. Volume  \n",
       "Date                     \n",
       "1990-12-31    1845200.0  \n",
       "1991-01-02    4150800.0  \n",
       "1991-01-03    5229600.0  \n",
       "1991-01-04    4340400.0  \n",
       "1991-01-07    4757600.0  \n",
       "1991-01-08    6862000.0  \n",
       "1991-01-09    8312000.0  \n",
       "1991-01-10    3848000.0  \n",
       "1991-01-11    2434800.0  \n",
       "1991-01-14    6986000.0  "
      ]
     },
     "execution_count": 11,
     "metadata": {},
     "output_type": "execute_result"
    }
   ],
   "source": [
    "ibm_data.head(10)"
   ]
  },
  {
   "cell_type": "markdown",
   "metadata": {},
   "source": [
    "Visually adjusted inspect the **adjusted closing price** of the downloaded \"IBM\" data:"
   ]
  },
  {
   "cell_type": "code",
   "execution_count": 12,
   "metadata": {},
   "outputs": [
    {
     "data": {
      "image/png": "[encoded data removed]",
      "text/plain": [
       "<Figure size 1080x360 with 1 Axes>"
      ]
     },
     "metadata": {
      "needs_background": "light"
     },
     "output_type": "display_data"
    }
   ],
   "source": [
    "plt.rcParams['figure.figsize'] = [15, 5]\n",
    "fig = plt.figure()\n",
    "ax = fig.add_subplot(111)\n",
    "\n",
    "# plot ibm stock quarterly closing prices\n",
    "ax.plot(ibm_data.index, ibm_data['Adj. Close'], color='#9b59b6')\n",
    "\n",
    "# rotate x-ticks\n",
    "for tick in ax.get_xticklabels():\n",
    "    tick.set_rotation(45)\n",
    "\n",
    "# set axis labels\n",
    "ax.set_xlabel('[time]', fontsize=10)\n",
    "ax.set_xlim([pd.to_datetime('01-01-1990'), pd.to_datetime('31-12-2017')])\n",
    "ax.set_ylabel('[stock closing price]', fontsize=10)\n",
    "\n",
    "# set plot title\n",
    "plt.title('International Business Machines Corporation (IBM) - Historical Stock Prices', fontsize=10);"
   ]
  },
  {
   "cell_type": "markdown",
   "metadata": {},
   "source": [
    "Save the downloaded \"IBM\" data to the local directory:"
   ]
  },
  {
   "cell_type": "code",
   "execution_count": 13,
   "metadata": {},
   "outputs": [],
   "source": [
    "ibm_data.to_csv('./datasets/ibm_data_1990_2017_daily.csv', sep=';', encoding='utf-8')"
   ]
  },
  {
   "cell_type": "markdown",
   "metadata": {},
   "source": [
    "### Step 3: Data Analysis - Moving Average Crossover Strategy Implementation"
   ]
  },
  {
   "cell_type": "markdown",
   "metadata": {},
   "source": [
    "Let's implement a simple **Moving Average Crossover** trading strategy. In general, **crossover trading** refers to the idea that changes of market situations can be determined based on price “breakouts”. A crossover can be interpreted as another measure of a financial instruments momentum. In the past crossover signals have been extensively used to determine that it’s time to either buy or sell the underlying asset.\n",
    "\n",
    "The price crossover signals of a simple **Moving Average Crossover** trading strategy are triggered by the following events:\n",
    "\n",
    ">- Generate a **short** trading signal once the price of a financial instrument drops below the general price trend, e.g., 100-days moving average band (\"Sell Sign Crossover\", left image below). \n",
    ">- Generate a **long** trading signal once the price of a financial instrument exceeds the general price trend, e.g., 100-days moving average band (\"Buy Sign Crossover\", right image below)."
   ]
  },
  {
   "cell_type": "markdown",
   "metadata": {},
   "source": [
    "<img align=\"middle\" style=\"max-width: 800px; height: auto\" src=\"crossovertrading.png\">"
   ]
  },
  {
   "cell_type": "markdown",
   "metadata": {},
   "source": [
    "An enhancement of the **Moving Average Crossover** is to apply two moving averages to a chart: one long running moving average (e.g., a 200-days SMAV) and one short running moving average (e.g., 20-days SMAV). Once the short running moving average crosses above the long running moving average a **Buy** or **Long** signal is triggered, as it indicates that the trend is shifting up (this is known as a \"golden cross\"). On the other hand, when the short running moving average crosses below the long running moving average, a **Sell** or **Short** signal is triggered, as it indicates that the trend is shifting down (his is known as a \"dead/death cross\")"
   ]
  },
  {
   "cell_type": "markdown",
   "metadata": {},
   "source": [
    "Let's start implementing this enhanced trading strategy by setting the distinct moving average window sizes that specify the number of historical daily adjusted closing prices of the IBM stock to be considered in the calculation of the rolling moving average:"
   ]
  },
  {
   "cell_type": "code",
   "execution_count": 14,
   "metadata": {},
   "outputs": [],
   "source": [
    "cross_mav_days_15 = 15  # set \"fast\" short-running moving average indicator lookback, days = 15\n",
    "cross_mav_days_60 = 60  # set \"slow\" short-running moving average indicator lookback, days = 60\n",
    "cross_mav_days_200 = 200  # set \"trend\" long-running moving average indicator lookback, days = 200"
   ]
  },
  {
   "cell_type": "markdown",
   "metadata": {},
   "source": [
    "Calculate the rolling moving averages of window sizes: 15 days, 50 days and 200 days. In general the **\"Simple Moving Average (SMAV)\"** of a financial instrument $i$ (e.g., a stock, commodity, fx-rate) is defined as the mean of the previous $n$ prices, formally denoted by: \n"
   ]
  },
  {
   "cell_type": "markdown",
   "metadata": {},
   "source": [
    "$$SMA_{i}(t)=\\frac{1}{n} \\sum_{k=0}^{n-1} p_{i}(t-k)$$"
   ]
  },
  {
   "cell_type": "markdown",
   "metadata": {},
   "source": [
    "were $t$ denotes the current point in time and $n$ the lookback."
   ]
  },
  {
   "cell_type": "markdown",
   "metadata": {},
   "source": [
    "We can calculate the SMAV by just using the Pandas `rolling()` and `mean()`function:"
   ]
  },
  {
   "cell_type": "code",
   "execution_count": 15,
   "metadata": {},
   "outputs": [],
   "source": [
    "cross_mav_15 = pd.Series(ibm_data['Adj. Close'].rolling(window = cross_mav_days_15).mean(), name = 'SMAV_15')\n",
    "cross_mav_60 = pd.Series(ibm_data['Adj. Close'].rolling(window = cross_mav_days_60).mean(), name = 'SMAV_60')\n",
    "cross_mav_200 = pd.Series(ibm_data['Adj. Close'].rolling(window = cross_mav_days_200).mean(), name = 'SMAV_200')"
   ]
  },
  {
   "cell_type": "markdown",
   "metadata": {},
   "source": [
    "Merge the rolling moving average values with the original to market data (adjusted closing prices):"
   ]
  },
  {
   "cell_type": "code",
   "execution_count": 16,
   "metadata": {},
   "outputs": [],
   "source": [
    "cross_mav_ibm_data = ibm_data.join(cross_mav_15)\n",
    "cross_mav_ibm_data = cross_mav_ibm_data.join(cross_mav_60)\n",
    "cross_mav_ibm_data = cross_mav_ibm_data.join(cross_mav_200)"
   ]
  },
  {
   "cell_type": "markdown",
   "metadata": {},
   "source": [
    "Inspect and validate the daily adjusted closint prices of the IBM stock as well as the derived moving average values starting from the first obtained 200-day moving average market price:"
   ]
  },
  {
   "cell_type": "code",
   "execution_count": 17,
   "metadata": {},
   "outputs": [
    {
     "data": {
      "text/html": [
       "<div>\n",
       "<style scoped>\n",
       "    .dataframe tbody tr th:only-of-type {\n",
       "        vertical-align: middle;\n",
       "    }\n",
       "\n",
       "    .dataframe tbody tr th {\n",
       "        vertical-align: top;\n",
       "    }\n",
       "\n",
       "    .dataframe thead th {\n",
       "        text-align: right;\n",
       "    }\n",
       "</style>\n",
       "<table border=\"1\" class=\"dataframe\">\n",
       "  <thead>\n",
       "    <tr style=\"text-align: right;\">\n",
       "      <th></th>\n",
       "      <th>Adj. Close</th>\n",
       "      <th>SMAV_15</th>\n",
       "      <th>SMAV_60</th>\n",
       "      <th>SMAV_200</th>\n",
       "    </tr>\n",
       "    <tr>\n",
       "      <th>Date</th>\n",
       "      <th></th>\n",
       "      <th></th>\n",
       "      <th></th>\n",
       "      <th></th>\n",
       "    </tr>\n",
       "  </thead>\n",
       "  <tbody>\n",
       "    <tr>\n",
       "      <th>1991-10-15</th>\n",
       "      <td>16.272507</td>\n",
       "      <td>15.775304</td>\n",
       "      <td>15.585909</td>\n",
       "      <td>16.691545</td>\n",
       "    </tr>\n",
       "    <tr>\n",
       "      <th>1991-10-16</th>\n",
       "      <td>15.861987</td>\n",
       "      <td>15.740132</td>\n",
       "      <td>15.591629</td>\n",
       "      <td>16.686197</td>\n",
       "    </tr>\n",
       "    <tr>\n",
       "      <th>1991-10-17</th>\n",
       "      <td>15.588827</td>\n",
       "      <td>15.688101</td>\n",
       "      <td>15.592462</td>\n",
       "      <td>16.679197</td>\n",
       "    </tr>\n",
       "    <tr>\n",
       "      <th>1991-10-18</th>\n",
       "      <td>15.666873</td>\n",
       "      <td>15.668538</td>\n",
       "      <td>15.595238</td>\n",
       "      <td>16.672873</td>\n",
       "    </tr>\n",
       "    <tr>\n",
       "      <th>1991-10-21</th>\n",
       "      <td>15.648142</td>\n",
       "      <td>15.633470</td>\n",
       "      <td>15.597702</td>\n",
       "      <td>16.667868</td>\n",
       "    </tr>\n",
       "    <tr>\n",
       "      <th>1991-10-22</th>\n",
       "      <td>15.374982</td>\n",
       "      <td>15.590596</td>\n",
       "      <td>15.593377</td>\n",
       "      <td>16.662441</td>\n",
       "    </tr>\n",
       "    <tr>\n",
       "      <th>1991-10-23</th>\n",
       "      <td>15.374982</td>\n",
       "      <td>15.563333</td>\n",
       "      <td>15.588409</td>\n",
       "      <td>16.658622</td>\n",
       "    </tr>\n",
       "    <tr>\n",
       "      <th>1991-10-24</th>\n",
       "      <td>15.335960</td>\n",
       "      <td>15.555528</td>\n",
       "      <td>15.583742</td>\n",
       "      <td>16.653476</td>\n",
       "    </tr>\n",
       "    <tr>\n",
       "      <th>1991-10-25</th>\n",
       "      <td>15.296937</td>\n",
       "      <td>15.552926</td>\n",
       "      <td>15.578425</td>\n",
       "      <td>16.648323</td>\n",
       "    </tr>\n",
       "    <tr>\n",
       "      <th>1991-10-28</th>\n",
       "      <td>15.335960</td>\n",
       "      <td>15.546475</td>\n",
       "      <td>15.576020</td>\n",
       "      <td>16.644400</td>\n",
       "    </tr>\n",
       "  </tbody>\n",
       "</table>\n",
       "</div>"
      ],
      "text/plain": [
       "            Adj. Close    SMAV_15    SMAV_60   SMAV_200\n",
       "Date                                                   \n",
       "1991-10-15   16.272507  15.775304  15.585909  16.691545\n",
       "1991-10-16   15.861987  15.740132  15.591629  16.686197\n",
       "1991-10-17   15.588827  15.688101  15.592462  16.679197\n",
       "1991-10-18   15.666873  15.668538  15.595238  16.672873\n",
       "1991-10-21   15.648142  15.633470  15.597702  16.667868\n",
       "1991-10-22   15.374982  15.590596  15.593377  16.662441\n",
       "1991-10-23   15.374982  15.563333  15.588409  16.658622\n",
       "1991-10-24   15.335960  15.555528  15.583742  16.653476\n",
       "1991-10-25   15.296937  15.552926  15.578425  16.648323\n",
       "1991-10-28   15.335960  15.546475  15.576020  16.644400"
      ]
     },
     "execution_count": 17,
     "metadata": {},
     "output_type": "execute_result"
    }
   ],
   "source": [
    "cross_mav_ibm_data[['Adj. Close', 'SMAV_15', 'SMAV_60', 'SMAV_200']].iloc[200:210]"
   ]
  },
  {
   "cell_type": "markdown",
   "metadata": {},
   "source": [
    "Plot the historical daily adjusted closing prices of the IBM stock (blue) as well as its 15 days (green), 60 days (red) as well as 200 days (yellow) rolling moving averages:"
   ]
  },
  {
   "cell_type": "code",
   "execution_count": 18,
   "metadata": {},
   "outputs": [
    {
     "data": {
      "image/png": "[encoded data removed]",
      "text/plain": [
       "<Figure size 1080x360 with 1 Axes>"
      ]
     },
     "metadata": {
      "needs_background": "light"
     },
     "output_type": "display_data"
    }
   ],
   "source": [
    "plt.rcParams['figure.figsize'] = [15, 5]\n",
    "fig = plt.figure()\n",
    "ax = fig.add_subplot(111)\n",
    "\n",
    "# plot adjusted closing prices and moving averages\n",
    "ax.plot(cross_mav_ibm_data['Adj. Close'], lw=1.0, color='#9b59b6', label='Closing Prices (purple)')\n",
    "ax.plot(cross_mav_ibm_data['SMAV_15'], color='C1',lw=1.0, label='15-day MAV (green)')\n",
    "ax.plot(cross_mav_ibm_data['SMAV_60'], color='C1',lw=1.0, label='60-day MAV (red)')\n",
    "ax.plot(cross_mav_ibm_data['SMAV_200'], color='C4', lw=1.0, label='200-day MAV (yellow)')\n",
    "\n",
    "# rotate x-tick labels\n",
    "for tick in ax.get_xticklabels():\n",
    "    tick.set_rotation(45)\n",
    "    \n",
    "# set axis labels\n",
    "ax.set_xlabel('[time]', fontsize=10)\n",
    "ax.set_xlim([pd.to_datetime('01-01-1990'), pd.to_datetime('31-12-2017')])\n",
    "ax.set_ylabel('[market price]', fontsize=10)\n",
    "\n",
    "# set plot legend\n",
    "plt.legend(loc=\"upper left\", numpoints=1, fancybox=True)\n",
    "\n",
    "# set plot title\n",
    "plt.title('International Business Machines Corporation (IBM) - Daily Historical Stock Closing Prices', fontsize=10);"
   ]
  },
  {
   "cell_type": "markdown",
   "metadata": {},
   "source": [
    "### Step 4: Moving Average Crossover Signal Generation"
   ]
  },
  {
   "cell_type": "markdown",
   "metadata": {},
   "source": [
    "Derive trading signals from of two distinct moving average crossover trading strategy configurations. We will generate a **long-signal** (+1.0) for the time intervals where the fast moving averages are above the 200-day moving average. In addition we generate a **short-signal** (-1.0) for the time intervals where the fast moving averages are below the 200-day moving average:"
   ]
  },
  {
   "cell_type": "code",
   "execution_count": 19,
   "metadata": {},
   "outputs": [],
   "source": [
    "# create 'fast' trend-following signals\n",
    "cross_mav_ibm_data['SIGNAL_15'] = 0.0\n",
    "cross_mav_ibm_data.loc[cross_mav_ibm_data['SMAV_15'] > cross_mav_ibm_data['SMAV_200'], 'SIGNAL_15'] = 1.0\n",
    "cross_mav_ibm_data.loc[cross_mav_ibm_data['SMAV_15'] < cross_mav_ibm_data['SMAV_200'], 'SIGNAL_15'] = -1.0\n",
    "\n",
    "# create 'slow' trend-following signals\n",
    "cross_mav_ibm_data['SIGNAL_60'] = 0.0\n",
    "cross_mav_ibm_data.loc[cross_mav_ibm_data['SMAV_60'] > cross_mav_ibm_data['SMAV_200'], 'SIGNAL_60'] = 1.0\n",
    "cross_mav_ibm_data.loc[cross_mav_ibm_data['SMAV_60'] < cross_mav_ibm_data['SMAV_200'], 'SIGNAL_60'] = -1.0"
   ]
  },
  {
   "cell_type": "markdown",
   "metadata": {},
   "source": [
    "In addition, let's also prepare a backtest of a **\"baseline\"** in terms of a simple **buy-and-hold** trading strategy for comparison purposes. Our buy-and-hold strategy sends a \"long\" (+1.0) signal for each time step: "
   ]
  },
  {
   "cell_type": "code",
   "execution_count": 20,
   "metadata": {},
   "outputs": [],
   "source": [
    "cross_mav_ibm_data['SIGNAL_BASE'] = 1.0"
   ]
  },
  {
   "cell_type": "markdown",
   "metadata": {},
   "source": [
    "Prepare the trading signal data to be utilized in backtesting the long-/short-term moving-average trading strategy:"
   ]
  },
  {
   "cell_type": "code",
   "execution_count": 21,
   "metadata": {},
   "outputs": [],
   "source": [
    "# convert signals to Pandas DataFrame\n",
    "cross_mav_ibm_signal_data = pd.DataFrame(cross_mav_ibm_data[['SIGNAL_15', 'SIGNAL_60', 'SIGNAL_BASE']], columns=['SIGNAL_15', 'SIGNAL_60', 'SIGNAL_BASE'])\n",
    "\n",
    "# convert pandas DataFrame index to datatype: datetime\n",
    "cross_mav_ibm_signal_data = cross_mav_ibm_signal_data.set_index(pd.to_datetime(ibm_data.index))"
   ]
  },
  {
   "cell_type": "markdown",
   "metadata": {},
   "source": [
    "Inspect top 10 rows of the prepared trading signals:"
   ]
  },
  {
   "cell_type": "code",
   "execution_count": 22,
   "metadata": {},
   "outputs": [
    {
     "data": {
      "text/html": [
       "<div>\n",
       "<style scoped>\n",
       "    .dataframe tbody tr th:only-of-type {\n",
       "        vertical-align: middle;\n",
       "    }\n",
       "\n",
       "    .dataframe tbody tr th {\n",
       "        vertical-align: top;\n",
       "    }\n",
       "\n",
       "    .dataframe thead th {\n",
       "        text-align: right;\n",
       "    }\n",
       "</style>\n",
       "<table border=\"1\" class=\"dataframe\">\n",
       "  <thead>\n",
       "    <tr style=\"text-align: right;\">\n",
       "      <th></th>\n",
       "      <th>SIGNAL_15</th>\n",
       "      <th>SIGNAL_60</th>\n",
       "      <th>SIGNAL_BASE</th>\n",
       "    </tr>\n",
       "    <tr>\n",
       "      <th>Date</th>\n",
       "      <th></th>\n",
       "      <th></th>\n",
       "      <th></th>\n",
       "    </tr>\n",
       "  </thead>\n",
       "  <tbody>\n",
       "    <tr>\n",
       "      <th>1990-12-31</th>\n",
       "      <td>0.0</td>\n",
       "      <td>0.0</td>\n",
       "      <td>1.0</td>\n",
       "    </tr>\n",
       "    <tr>\n",
       "      <th>1991-01-02</th>\n",
       "      <td>0.0</td>\n",
       "      <td>0.0</td>\n",
       "      <td>1.0</td>\n",
       "    </tr>\n",
       "    <tr>\n",
       "      <th>1991-01-03</th>\n",
       "      <td>0.0</td>\n",
       "      <td>0.0</td>\n",
       "      <td>1.0</td>\n",
       "    </tr>\n",
       "    <tr>\n",
       "      <th>1991-01-04</th>\n",
       "      <td>0.0</td>\n",
       "      <td>0.0</td>\n",
       "      <td>1.0</td>\n",
       "    </tr>\n",
       "    <tr>\n",
       "      <th>1991-01-07</th>\n",
       "      <td>0.0</td>\n",
       "      <td>0.0</td>\n",
       "      <td>1.0</td>\n",
       "    </tr>\n",
       "    <tr>\n",
       "      <th>1991-01-08</th>\n",
       "      <td>0.0</td>\n",
       "      <td>0.0</td>\n",
       "      <td>1.0</td>\n",
       "    </tr>\n",
       "    <tr>\n",
       "      <th>1991-01-09</th>\n",
       "      <td>0.0</td>\n",
       "      <td>0.0</td>\n",
       "      <td>1.0</td>\n",
       "    </tr>\n",
       "    <tr>\n",
       "      <th>1991-01-10</th>\n",
       "      <td>0.0</td>\n",
       "      <td>0.0</td>\n",
       "      <td>1.0</td>\n",
       "    </tr>\n",
       "    <tr>\n",
       "      <th>1991-01-11</th>\n",
       "      <td>0.0</td>\n",
       "      <td>0.0</td>\n",
       "      <td>1.0</td>\n",
       "    </tr>\n",
       "    <tr>\n",
       "      <th>1991-01-14</th>\n",
       "      <td>0.0</td>\n",
       "      <td>0.0</td>\n",
       "      <td>1.0</td>\n",
       "    </tr>\n",
       "  </tbody>\n",
       "</table>\n",
       "</div>"
      ],
      "text/plain": [
       "            SIGNAL_15  SIGNAL_60  SIGNAL_BASE\n",
       "Date                                         \n",
       "1990-12-31        0.0        0.0          1.0\n",
       "1991-01-02        0.0        0.0          1.0\n",
       "1991-01-03        0.0        0.0          1.0\n",
       "1991-01-04        0.0        0.0          1.0\n",
       "1991-01-07        0.0        0.0          1.0\n",
       "1991-01-08        0.0        0.0          1.0\n",
       "1991-01-09        0.0        0.0          1.0\n",
       "1991-01-10        0.0        0.0          1.0\n",
       "1991-01-11        0.0        0.0          1.0\n",
       "1991-01-14        0.0        0.0          1.0"
      ]
     },
     "execution_count": 22,
     "metadata": {},
     "output_type": "execute_result"
    }
   ],
   "source": [
    "cross_mav_ibm_signal_data.head(10)"
   ]
  },
  {
   "cell_type": "markdown",
   "metadata": {},
   "source": [
    "Inspect some of the exemplary signal deviations between the 15-days and 60-days crossover moving average trading strategies:"
   ]
  },
  {
   "cell_type": "code",
   "execution_count": 23,
   "metadata": {},
   "outputs": [
    {
     "data": {
      "text/html": [
       "<div>\n",
       "<style scoped>\n",
       "    .dataframe tbody tr th:only-of-type {\n",
       "        vertical-align: middle;\n",
       "    }\n",
       "\n",
       "    .dataframe tbody tr th {\n",
       "        vertical-align: top;\n",
       "    }\n",
       "\n",
       "    .dataframe thead th {\n",
       "        text-align: right;\n",
       "    }\n",
       "</style>\n",
       "<table border=\"1\" class=\"dataframe\">\n",
       "  <thead>\n",
       "    <tr style=\"text-align: right;\">\n",
       "      <th></th>\n",
       "      <th>SIGNAL_15</th>\n",
       "      <th>SIGNAL_60</th>\n",
       "      <th>SIGNAL_BASE</th>\n",
       "    </tr>\n",
       "    <tr>\n",
       "      <th>Date</th>\n",
       "      <th></th>\n",
       "      <th></th>\n",
       "      <th></th>\n",
       "    </tr>\n",
       "  </thead>\n",
       "  <tbody>\n",
       "    <tr>\n",
       "      <th>1992-05-15</th>\n",
       "      <td>1.0</td>\n",
       "      <td>-1.0</td>\n",
       "      <td>1.0</td>\n",
       "    </tr>\n",
       "    <tr>\n",
       "      <th>1992-05-18</th>\n",
       "      <td>1.0</td>\n",
       "      <td>-1.0</td>\n",
       "      <td>1.0</td>\n",
       "    </tr>\n",
       "    <tr>\n",
       "      <th>1992-05-19</th>\n",
       "      <td>1.0</td>\n",
       "      <td>-1.0</td>\n",
       "      <td>1.0</td>\n",
       "    </tr>\n",
       "    <tr>\n",
       "      <th>1992-05-20</th>\n",
       "      <td>1.0</td>\n",
       "      <td>-1.0</td>\n",
       "      <td>1.0</td>\n",
       "    </tr>\n",
       "    <tr>\n",
       "      <th>1992-05-21</th>\n",
       "      <td>1.0</td>\n",
       "      <td>-1.0</td>\n",
       "      <td>1.0</td>\n",
       "    </tr>\n",
       "    <tr>\n",
       "      <th>1992-05-22</th>\n",
       "      <td>1.0</td>\n",
       "      <td>-1.0</td>\n",
       "      <td>1.0</td>\n",
       "    </tr>\n",
       "    <tr>\n",
       "      <th>1992-05-26</th>\n",
       "      <td>1.0</td>\n",
       "      <td>-1.0</td>\n",
       "      <td>1.0</td>\n",
       "    </tr>\n",
       "    <tr>\n",
       "      <th>1992-05-27</th>\n",
       "      <td>1.0</td>\n",
       "      <td>-1.0</td>\n",
       "      <td>1.0</td>\n",
       "    </tr>\n",
       "    <tr>\n",
       "      <th>1992-05-28</th>\n",
       "      <td>1.0</td>\n",
       "      <td>-1.0</td>\n",
       "      <td>1.0</td>\n",
       "    </tr>\n",
       "    <tr>\n",
       "      <th>1992-05-29</th>\n",
       "      <td>1.0</td>\n",
       "      <td>-1.0</td>\n",
       "      <td>1.0</td>\n",
       "    </tr>\n",
       "  </tbody>\n",
       "</table>\n",
       "</div>"
      ],
      "text/plain": [
       "            SIGNAL_15  SIGNAL_60  SIGNAL_BASE\n",
       "Date                                         \n",
       "1992-05-15        1.0       -1.0          1.0\n",
       "1992-05-18        1.0       -1.0          1.0\n",
       "1992-05-19        1.0       -1.0          1.0\n",
       "1992-05-20        1.0       -1.0          1.0\n",
       "1992-05-21        1.0       -1.0          1.0\n",
       "1992-05-22        1.0       -1.0          1.0\n",
       "1992-05-26        1.0       -1.0          1.0\n",
       "1992-05-27        1.0       -1.0          1.0\n",
       "1992-05-28        1.0       -1.0          1.0\n",
       "1992-05-29        1.0       -1.0          1.0"
      ]
     },
     "execution_count": 23,
     "metadata": {},
     "output_type": "execute_result"
    }
   ],
   "source": [
    "cross_mav_ibm_signal_data[cross_mav_ibm_signal_data['SIGNAL_15'] != cross_mav_ibm_signal_data['SIGNAL_60']].head(10)"
   ]
  },
  {
   "cell_type": "markdown",
   "metadata": {},
   "source": [
    "Visualize the prepared trading signals:"
   ]
  },
  {
   "cell_type": "code",
   "execution_count": 24,
   "metadata": {},
   "outputs": [
    {
     "data": {
      "image/png": "[encoded data removed]",
      "text/plain": [
       "<Figure size 1080x360 with 3 Axes>"
      ]
     },
     "metadata": {
      "needs_background": "light"
     },
     "output_type": "display_data"
    }
   ],
   "source": [
    "plt.rcParams['figure.figsize'] = [15, 5]\n",
    "fig, ax = plt.subplots(ncols=1, nrows=3)\n",
    "\n",
    "ax[0].plot(cross_mav_ibm_signal_data['SIGNAL_15'], lw=1.0, color='C2', label='SMAV 16 (red)')\n",
    "ax[1].plot(cross_mav_ibm_signal_data['SIGNAL_60'], lw=1.0, color='C1', label='SMAV 60 (green)')\n",
    "ax[2].plot(cross_mav_ibm_signal_data['SIGNAL_BASE'], lw=1.0, color='C3', label='BASE (purple)')\n",
    "    \n",
    "# set axis labels\n",
    "plt.xlabel('[time]', fontsize=10)\n",
    "ax[0].set_xlim([pd.to_datetime('01-01-1990'), pd.to_datetime('31-12-2017')])\n",
    "ax[0].set_ylabel('[smav 15 signal]', fontsize=10)\n",
    "ax[1].set_xlim([pd.to_datetime('01-01-1990'), pd.to_datetime('31-12-2017')])\n",
    "ax[1].set_ylabel('[smav 60 signal]', fontsize=10)\n",
    "ax[2].set_xlim([pd.to_datetime('01-01-1990'), pd.to_datetime('31-12-2017')])\n",
    "ax[2].set_ylabel('[base signal]', fontsize=10)\n",
    "\n",
    "for tick in ax[0].get_xticklabels():\n",
    "    tick.set_rotation(45)\n",
    "    \n",
    "for tick in ax[1].get_xticklabels():\n",
    "    tick.set_rotation(45)\n",
    "    \n",
    "for tick in ax[2].get_xticklabels():\n",
    "    tick.set_rotation(45)\n",
    "\n",
    "# set plot title\n",
    "ax[0].set_title('International Business Machines Corporation (IBM) - 15 days Crossover Moving Average Trading Signals', fontsize=10)\n",
    "ax[1].set_title('International Business Machines Corporation (IBM) - 60 days Crossover Moving Average Trading Signals', fontsize=10)\n",
    "ax[2].set_title('International Business Machines Corporation (IBM) - Baseline Moving Average Trading Signals', fontsize=10)\n",
    "\n",
    "# reset plot layout\n",
    "plt.tight_layout()"
   ]
  },
  {
   "cell_type": "markdown",
   "metadata": {},
   "source": [
    "### Step 5: Moving Average Crossover Signal Backtest"
   ]
  },
  {
   "cell_type": "markdown",
   "metadata": {},
   "source": [
    "Prepare the market data to be utilized in backtesting the crossover moving average trading strategy configurations:"
   ]
  },
  {
   "cell_type": "code",
   "execution_count": 25,
   "metadata": {},
   "outputs": [],
   "source": [
    "# extract the ibm stock closing prices\n",
    "ibm_market_data = pd.DataFrame(ibm_data['Adj. Close'], columns=['Adj. Close'])\n",
    "\n",
    "# rename the 'close' column to 'ibm' (since this is the column we want to allocate to in the backtest)\n",
    "ibm_market_data = ibm_market_data.rename(columns={'Adj. Close': 'IBM'})\n",
    "\n",
    "# convert pandas DataFrame index to datatype: datetime\n",
    "ibm_market_data = ibm_market_data.set_index(pd.to_datetime(ibm_data.index))"
   ]
  },
  {
   "cell_type": "markdown",
   "metadata": {},
   "source": [
    "Inspect top 10 rows of the prepared market data:"
   ]
  },
  {
   "cell_type": "code",
   "execution_count": 26,
   "metadata": {},
   "outputs": [
    {
     "data": {
      "text/html": [
       "<div>\n",
       "<style scoped>\n",
       "    .dataframe tbody tr th:only-of-type {\n",
       "        vertical-align: middle;\n",
       "    }\n",
       "\n",
       "    .dataframe tbody tr th {\n",
       "        vertical-align: top;\n",
       "    }\n",
       "\n",
       "    .dataframe thead th {\n",
       "        text-align: right;\n",
       "    }\n",
       "</style>\n",
       "<table border=\"1\" class=\"dataframe\">\n",
       "  <thead>\n",
       "    <tr style=\"text-align: right;\">\n",
       "      <th></th>\n",
       "      <th>IBM</th>\n",
       "    </tr>\n",
       "    <tr>\n",
       "      <th>Date</th>\n",
       "      <th></th>\n",
       "    </tr>\n",
       "  </thead>\n",
       "  <tbody>\n",
       "    <tr>\n",
       "      <th>1990-12-31</th>\n",
       "      <td>17.064445</td>\n",
       "    </tr>\n",
       "    <tr>\n",
       "      <th>1991-01-02</th>\n",
       "      <td>16.931554</td>\n",
       "    </tr>\n",
       "    <tr>\n",
       "      <th>1991-01-03</th>\n",
       "      <td>16.988938</td>\n",
       "    </tr>\n",
       "    <tr>\n",
       "      <th>1991-01-04</th>\n",
       "      <td>16.931554</td>\n",
       "    </tr>\n",
       "    <tr>\n",
       "      <th>1991-01-07</th>\n",
       "      <td>16.649160</td>\n",
       "    </tr>\n",
       "    <tr>\n",
       "      <th>1991-01-08</th>\n",
       "      <td>16.460394</td>\n",
       "    </tr>\n",
       "    <tr>\n",
       "      <th>1991-01-09</th>\n",
       "      <td>16.138736</td>\n",
       "    </tr>\n",
       "    <tr>\n",
       "      <th>1991-01-10</th>\n",
       "      <td>16.365256</td>\n",
       "    </tr>\n",
       "    <tr>\n",
       "      <th>1991-01-11</th>\n",
       "      <td>16.327502</td>\n",
       "    </tr>\n",
       "    <tr>\n",
       "      <th>1991-01-14</th>\n",
       "      <td>16.120615</td>\n",
       "    </tr>\n",
       "  </tbody>\n",
       "</table>\n",
       "</div>"
      ],
      "text/plain": [
       "                  IBM\n",
       "Date                 \n",
       "1990-12-31  17.064445\n",
       "1991-01-02  16.931554\n",
       "1991-01-03  16.988938\n",
       "1991-01-04  16.931554\n",
       "1991-01-07  16.649160\n",
       "1991-01-08  16.460394\n",
       "1991-01-09  16.138736\n",
       "1991-01-10  16.365256\n",
       "1991-01-11  16.327502\n",
       "1991-01-14  16.120615"
      ]
     },
     "execution_count": 26,
     "metadata": {},
     "output_type": "execute_result"
    }
   ],
   "source": [
    "ibm_market_data.head(10)"
   ]
  },
  {
   "cell_type": "markdown",
   "metadata": {},
   "source": [
    "Implementing a simple Moving Average Trading Strategy by interfacing the Python bt's Algo class:"
   ]
  },
  {
   "cell_type": "code",
   "execution_count": 27,
   "metadata": {},
   "outputs": [],
   "source": [
    "class MovingAverageStrategy(bt.Algo):\n",
    "    \n",
    "    # inits the strategy\n",
    "    def __init__(self, signals):\n",
    "        \n",
    "        # set class signals\n",
    "        self.signals = signals\n",
    "        \n",
    "    # calss the trading strategy\n",
    "    def __call__(self, target):\n",
    "        \n",
    "        # case: current timestep in signals\n",
    "        if target.now in self.signals.index[1:]:\n",
    "            \n",
    "            # get actual signal\n",
    "            signal = self.signals.ix[target.now]\n",
    "            \n",
    "            # set target weights according to signal\n",
    "            target.temp['weights'] = dict(IBM=signal)\n",
    "            \n",
    "        # return 'True' since we want to move on to the next timestep\n",
    "        return True"
   ]
  },
  {
   "cell_type": "markdown",
   "metadata": {},
   "source": [
    "Define the moving average trading strategy backtest algorithm stack. \n",
    "\n",
    "**Note:** That in the Python `bt` library a trading strategy usually consists of a so-called **stack of algorithms**. For each timestep of our backtest timeframe, the `bt` library executes all algorithm of the stack in sequential order. Each moving average strategy we aim to design and backtest consists in total of three algorithms, briefly described in the following: \n",
    "\n",
    "> 1. `bt.algos.SelectAll()`: Selects all available stocks for trading except stock prices that correspond to NaN or 0.00.  \n",
    "> 2. `MovingAverageStrategy()`: Assigns the calculated momentum signal in terms of a weight value to the IBM stock.\n",
    "> 3. `bt.algos.Rebalance()`: Rebalances the available capital based on the weights assigned to each stock."
   ]
  },
  {
   "cell_type": "markdown",
   "metadata": {},
   "source": [
    "Define the long-/short-term moving average trading strategy backtest algorithm stack: "
   ]
  },
  {
   "cell_type": "code",
   "execution_count": 28,
   "metadata": {},
   "outputs": [],
   "source": [
    "cross_mav_ibm_strategy_15 = bt.Strategy('smav_15', [bt.algos.SelectAll(), MovingAverageStrategy(cross_mav_ibm_signal_data['SIGNAL_15']), bt.algos.Rebalance()])\n",
    "cross_mav_ibm_strategy_60 = bt.Strategy('smav_60', [bt.algos.SelectAll(), MovingAverageStrategy(cross_mav_ibm_signal_data['SIGNAL_60']), bt.algos.Rebalance()])\n",
    "cross_mav_ibm_strategy_base = bt.Strategy('base', [bt.algos.SelectAll(), MovingAverageStrategy(cross_mav_ibm_signal_data['SIGNAL_BASE']), bt.algos.Rebalance()])"
   ]
  },
  {
   "cell_type": "markdown",
   "metadata": {},
   "source": [
    "Upon completion of defining the long-/sort-term moving average strategies let's now init the corresponding backtests using (1) both strategies as well as (2) the market data that we aim to evaluate during the backtest:"
   ]
  },
  {
   "cell_type": "code",
   "execution_count": 29,
   "metadata": {},
   "outputs": [],
   "source": [
    "ibm_backtest_cross_mav_15 = bt.Backtest(strategy=cross_mav_ibm_strategy_15, data=ibm_market_data, name='ibm_backtest_smav_15')\n",
    "ibm_backtest_cross_mav_60 = bt.Backtest(strategy=cross_mav_ibm_strategy_60, data=ibm_market_data, name='ibm_backtest_smav_60')\n",
    "ibm_backtest_cross_mav_base = bt.Backtest(strategy=cross_mav_ibm_strategy_base, data=ibm_market_data, name='ibm_backtest_smav_base')"
   ]
  },
  {
   "cell_type": "markdown",
   "metadata": {},
   "source": [
    "Now, let's run the backtest of both configurations of the crossover moving average strategy as well as the defined baseline:"
   ]
  },
  {
   "cell_type": "code",
   "execution_count": 30,
   "metadata": {},
   "outputs": [
    {
     "name": "stdout",
     "output_type": "stream",
     "text": [
      "ibm_backtest_smav_15\n",
      "0% [############################# ] 100% | ETA: 00:00:00ibm_backtest_smav_60\n",
      "0% [############################# ] 100% | ETA: 00:00:00ibm_backtest_smav_base\n",
      "0% [############################# ] 100% | ETA: 00:00:00"
     ]
    }
   ],
   "source": [
    "backtest_results_ibm = bt.run(ibm_backtest_cross_mav_15, ibm_backtest_cross_mav_60, ibm_backtest_cross_mav_base)"
   ]
  },
  {
   "cell_type": "markdown",
   "metadata": {},
   "source": [
    "Inspect the individual backtest results and performance measures:"
   ]
  },
  {
   "cell_type": "code",
   "execution_count": 31,
   "metadata": {},
   "outputs": [
    {
     "name": "stdout",
     "output_type": "stream",
     "text": [
      "Stat                 ibm_backtest_smav_15    ibm_backtest_smav_60    ibm_backtest_smav_base\n",
      "-------------------  ----------------------  ----------------------  ------------------------\n",
      "Start                1990-12-30              1990-12-30              1990-12-30\n",
      "End                  2017-12-29              2017-12-29              2017-12-29\n",
      "Risk-free rate       0.00%                   0.00%                   0.00%\n",
      "\n",
      "Total Return         35.52%                  -82.81%                 806.11%\n",
      "Daily Sharpe         0.18                    -0.10                   0.43\n",
      "Daily Sortino        0.28                    -0.15                   0.73\n",
      "CAGR                 1.13%                   -6.31%                  8.51%\n",
      "Max Drawdown         -86.03%                 -93.91%                 -66.82%\n",
      "Calmar Ratio         0.01                    -0.07                   0.13\n",
      "\n",
      "MTD                  0.14%                   1.03%                   -0.36%\n",
      "3m                   -7.53%                  -6.70%                  6.80%\n",
      "6m                   -3.17%                  -2.30%                  1.59%\n",
      "YTD                  -5.15%                  -10.13%                 -3.98%\n",
      "1Y                   -5.50%                  -10.46%                 -4.33%\n",
      "3Y (ann.)            -2.51%                  -6.35%                  2.10%\n",
      "5Y (ann.)            -4.39%                  -9.15%                  -1.42%\n",
      "10Y (ann.)           0.61%                   -5.43%                  6.09%\n",
      "Since Incep. (ann.)  1.13%                   -6.31%                  8.51%\n",
      "\n",
      "Daily Sharpe         0.18                    -0.10                   0.43\n",
      "Daily Sortino        0.28                    -0.15                   0.73\n",
      "Daily Mean (ann.)    4.93%                   -2.71%                  12.03%\n",
      "Daily Vol (ann.)     27.53%                  27.53%                  27.82%\n",
      "Daily Skew           -0.18                   -0.40                   0.22\n",
      "Daily Kurt           7.73                    7.71                    7.46\n",
      "Best Day             15.54%                  13.16%                  13.16%\n",
      "Worst Day            -14.95%                 -15.54%                 -15.54%\n",
      "\n",
      "Monthly Sharpe       0.18                    -0.10                   0.44\n",
      "Monthly Sortino      0.31                    -0.16                   0.82\n",
      "Monthly Mean (ann.)  4.76%                   -2.75%                  11.75%\n",
      "Monthly Vol (ann.)   26.91%                  27.19%                  26.89%\n",
      "Monthly Skew         0.09                    -0.04                   0.32\n",
      "Monthly Kurt         2.22                    2.15                    2.17\n",
      "Best Month           31.46%                  31.46%                  35.38%\n",
      "Worst Month          -29.65%                 -29.65%                 -26.18%\n",
      "\n",
      "Yearly Sharpe        0.16                    -0.10                   0.42\n",
      "Yearly Sortino       0.32                    -0.15                   1.08\n",
      "Yearly Mean          3.73%                   -2.54%                  12.32%\n",
      "Yearly Vol           23.55%                  25.49%                  29.61%\n",
      "Yearly Skew          0.56                    -0.44                   0.33\n",
      "Yearly Kurt          1.71                    -0.14                   -0.16\n",
      "Best Year            69.96%                  39.32%                  77.49%\n",
      "Worst Year           -44.99%                 -59.74%                 -40.01%\n",
      "\n",
      "Avg. Drawdown        -6.69%                  -10.57%                 -5.67%\n",
      "Avg. Drawdown Days   137.49                  286.91                  91.63\n",
      "Avg. Up Month        6.05%                   5.64%                   6.33%\n",
      "Avg. Down Month      -5.19%                  -5.68%                  -5.15%\n",
      "Win Year %           55.56%                  51.85%                  62.96%\n",
      "Win 12m %            53.82%                  43.95%                  63.06%\n"
     ]
    }
   ],
   "source": [
    "backtest_results_ibm.display()"
   ]
  },
  {
   "cell_type": "markdown",
   "metadata": {},
   "source": [
    "Collect detailed backtest performance per timestep of the fast crossover moving average strategy:"
   ]
  },
  {
   "cell_type": "code",
   "execution_count": 32,
   "metadata": {},
   "outputs": [],
   "source": [
    "backtest_sma_15_ibm_details = ibm_backtest_cross_mav_15.strategy.data\n",
    "backtest_sma_15_ibm_details.columns = ['% EQUITY', 'EQUITY', 'CASH', 'FEES']"
   ]
  },
  {
   "cell_type": "markdown",
   "metadata": {},
   "source": [
    "Inspect detailed backtest results per timestep:"
   ]
  },
  {
   "cell_type": "code",
   "execution_count": 33,
   "metadata": {},
   "outputs": [
    {
     "data": {
      "text/html": [
       "<div>\n",
       "<style scoped>\n",
       "    .dataframe tbody tr th:only-of-type {\n",
       "        vertical-align: middle;\n",
       "    }\n",
       "\n",
       "    .dataframe tbody tr th {\n",
       "        vertical-align: top;\n",
       "    }\n",
       "\n",
       "    .dataframe thead th {\n",
       "        text-align: right;\n",
       "    }\n",
       "</style>\n",
       "<table border=\"1\" class=\"dataframe\">\n",
       "  <thead>\n",
       "    <tr style=\"text-align: right;\">\n",
       "      <th></th>\n",
       "      <th>% EQUITY</th>\n",
       "      <th>EQUITY</th>\n",
       "      <th>CASH</th>\n",
       "      <th>FEES</th>\n",
       "    </tr>\n",
       "  </thead>\n",
       "  <tbody>\n",
       "    <tr>\n",
       "      <th>1990-12-30</th>\n",
       "      <td>100.0</td>\n",
       "      <td>1000000.0</td>\n",
       "      <td>1000000.0</td>\n",
       "      <td>0.0</td>\n",
       "    </tr>\n",
       "    <tr>\n",
       "      <th>1990-12-31</th>\n",
       "      <td>100.0</td>\n",
       "      <td>1000000.0</td>\n",
       "      <td>1000000.0</td>\n",
       "      <td>0.0</td>\n",
       "    </tr>\n",
       "    <tr>\n",
       "      <th>1991-01-02</th>\n",
       "      <td>100.0</td>\n",
       "      <td>1000000.0</td>\n",
       "      <td>1000000.0</td>\n",
       "      <td>0.0</td>\n",
       "    </tr>\n",
       "    <tr>\n",
       "      <th>1991-01-03</th>\n",
       "      <td>100.0</td>\n",
       "      <td>1000000.0</td>\n",
       "      <td>1000000.0</td>\n",
       "      <td>0.0</td>\n",
       "    </tr>\n",
       "    <tr>\n",
       "      <th>1991-01-04</th>\n",
       "      <td>100.0</td>\n",
       "      <td>1000000.0</td>\n",
       "      <td>1000000.0</td>\n",
       "      <td>0.0</td>\n",
       "    </tr>\n",
       "    <tr>\n",
       "      <th>1991-01-07</th>\n",
       "      <td>100.0</td>\n",
       "      <td>1000000.0</td>\n",
       "      <td>1000000.0</td>\n",
       "      <td>0.0</td>\n",
       "    </tr>\n",
       "    <tr>\n",
       "      <th>1991-01-08</th>\n",
       "      <td>100.0</td>\n",
       "      <td>1000000.0</td>\n",
       "      <td>1000000.0</td>\n",
       "      <td>0.0</td>\n",
       "    </tr>\n",
       "    <tr>\n",
       "      <th>1991-01-09</th>\n",
       "      <td>100.0</td>\n",
       "      <td>1000000.0</td>\n",
       "      <td>1000000.0</td>\n",
       "      <td>0.0</td>\n",
       "    </tr>\n",
       "    <tr>\n",
       "      <th>1991-01-10</th>\n",
       "      <td>100.0</td>\n",
       "      <td>1000000.0</td>\n",
       "      <td>1000000.0</td>\n",
       "      <td>0.0</td>\n",
       "    </tr>\n",
       "    <tr>\n",
       "      <th>1991-01-11</th>\n",
       "      <td>100.0</td>\n",
       "      <td>1000000.0</td>\n",
       "      <td>1000000.0</td>\n",
       "      <td>0.0</td>\n",
       "    </tr>\n",
       "  </tbody>\n",
       "</table>\n",
       "</div>"
      ],
      "text/plain": [
       "            % EQUITY     EQUITY       CASH  FEES\n",
       "1990-12-30     100.0  1000000.0  1000000.0   0.0\n",
       "1990-12-31     100.0  1000000.0  1000000.0   0.0\n",
       "1991-01-02     100.0  1000000.0  1000000.0   0.0\n",
       "1991-01-03     100.0  1000000.0  1000000.0   0.0\n",
       "1991-01-04     100.0  1000000.0  1000000.0   0.0\n",
       "1991-01-07     100.0  1000000.0  1000000.0   0.0\n",
       "1991-01-08     100.0  1000000.0  1000000.0   0.0\n",
       "1991-01-09     100.0  1000000.0  1000000.0   0.0\n",
       "1991-01-10     100.0  1000000.0  1000000.0   0.0\n",
       "1991-01-11     100.0  1000000.0  1000000.0   0.0"
      ]
     },
     "execution_count": 33,
     "metadata": {},
     "output_type": "execute_result"
    }
   ],
   "source": [
    "backtest_sma_15_ibm_details.head(10)"
   ]
  },
  {
   "cell_type": "markdown",
   "metadata": {},
   "source": [
    "Collect detailed backtest performance per timestep of the slow crossover moving average strategy:"
   ]
  },
  {
   "cell_type": "code",
   "execution_count": 34,
   "metadata": {},
   "outputs": [],
   "source": [
    "backtest_sma_60_ibm_details = ibm_backtest_cross_mav_60.strategy.data\n",
    "backtest_sma_60_ibm_details.columns = ['% EQUITY', 'EQUITY', 'CASH', 'FEES']"
   ]
  },
  {
   "cell_type": "markdown",
   "metadata": {},
   "source": [
    "Inspect detailed backtest results per timestep:"
   ]
  },
  {
   "cell_type": "code",
   "execution_count": 35,
   "metadata": {},
   "outputs": [
    {
     "data": {
      "text/html": [
       "<div>\n",
       "<style scoped>\n",
       "    .dataframe tbody tr th:only-of-type {\n",
       "        vertical-align: middle;\n",
       "    }\n",
       "\n",
       "    .dataframe tbody tr th {\n",
       "        vertical-align: top;\n",
       "    }\n",
       "\n",
       "    .dataframe thead th {\n",
       "        text-align: right;\n",
       "    }\n",
       "</style>\n",
       "<table border=\"1\" class=\"dataframe\">\n",
       "  <thead>\n",
       "    <tr style=\"text-align: right;\">\n",
       "      <th></th>\n",
       "      <th>% EQUITY</th>\n",
       "      <th>EQUITY</th>\n",
       "      <th>CASH</th>\n",
       "      <th>FEES</th>\n",
       "    </tr>\n",
       "  </thead>\n",
       "  <tbody>\n",
       "    <tr>\n",
       "      <th>1990-12-30</th>\n",
       "      <td>100.0</td>\n",
       "      <td>1000000.0</td>\n",
       "      <td>1000000.0</td>\n",
       "      <td>0.0</td>\n",
       "    </tr>\n",
       "    <tr>\n",
       "      <th>1990-12-31</th>\n",
       "      <td>100.0</td>\n",
       "      <td>1000000.0</td>\n",
       "      <td>1000000.0</td>\n",
       "      <td>0.0</td>\n",
       "    </tr>\n",
       "    <tr>\n",
       "      <th>1991-01-02</th>\n",
       "      <td>100.0</td>\n",
       "      <td>1000000.0</td>\n",
       "      <td>1000000.0</td>\n",
       "      <td>0.0</td>\n",
       "    </tr>\n",
       "    <tr>\n",
       "      <th>1991-01-03</th>\n",
       "      <td>100.0</td>\n",
       "      <td>1000000.0</td>\n",
       "      <td>1000000.0</td>\n",
       "      <td>0.0</td>\n",
       "    </tr>\n",
       "    <tr>\n",
       "      <th>1991-01-04</th>\n",
       "      <td>100.0</td>\n",
       "      <td>1000000.0</td>\n",
       "      <td>1000000.0</td>\n",
       "      <td>0.0</td>\n",
       "    </tr>\n",
       "    <tr>\n",
       "      <th>1991-01-07</th>\n",
       "      <td>100.0</td>\n",
       "      <td>1000000.0</td>\n",
       "      <td>1000000.0</td>\n",
       "      <td>0.0</td>\n",
       "    </tr>\n",
       "    <tr>\n",
       "      <th>1991-01-08</th>\n",
       "      <td>100.0</td>\n",
       "      <td>1000000.0</td>\n",
       "      <td>1000000.0</td>\n",
       "      <td>0.0</td>\n",
       "    </tr>\n",
       "    <tr>\n",
       "      <th>1991-01-09</th>\n",
       "      <td>100.0</td>\n",
       "      <td>1000000.0</td>\n",
       "      <td>1000000.0</td>\n",
       "      <td>0.0</td>\n",
       "    </tr>\n",
       "    <tr>\n",
       "      <th>1991-01-10</th>\n",
       "      <td>100.0</td>\n",
       "      <td>1000000.0</td>\n",
       "      <td>1000000.0</td>\n",
       "      <td>0.0</td>\n",
       "    </tr>\n",
       "    <tr>\n",
       "      <th>1991-01-11</th>\n",
       "      <td>100.0</td>\n",
       "      <td>1000000.0</td>\n",
       "      <td>1000000.0</td>\n",
       "      <td>0.0</td>\n",
       "    </tr>\n",
       "  </tbody>\n",
       "</table>\n",
       "</div>"
      ],
      "text/plain": [
       "            % EQUITY     EQUITY       CASH  FEES\n",
       "1990-12-30     100.0  1000000.0  1000000.0   0.0\n",
       "1990-12-31     100.0  1000000.0  1000000.0   0.0\n",
       "1991-01-02     100.0  1000000.0  1000000.0   0.0\n",
       "1991-01-03     100.0  1000000.0  1000000.0   0.0\n",
       "1991-01-04     100.0  1000000.0  1000000.0   0.0\n",
       "1991-01-07     100.0  1000000.0  1000000.0   0.0\n",
       "1991-01-08     100.0  1000000.0  1000000.0   0.0\n",
       "1991-01-09     100.0  1000000.0  1000000.0   0.0\n",
       "1991-01-10     100.0  1000000.0  1000000.0   0.0\n",
       "1991-01-11     100.0  1000000.0  1000000.0   0.0"
      ]
     },
     "execution_count": 35,
     "metadata": {},
     "output_type": "execute_result"
    }
   ],
   "source": [
    "backtest_sma_60_ibm_details.head(10)"
   ]
  },
  {
   "cell_type": "markdown",
   "metadata": {},
   "source": [
    "Collect detailed backtest performance per timestep of the baseline strategy:"
   ]
  },
  {
   "cell_type": "code",
   "execution_count": 36,
   "metadata": {},
   "outputs": [],
   "source": [
    "backtest_sma_base_ibm_details = ibm_backtest_cross_mav_base.strategy.data\n",
    "backtest_sma_base_ibm_details.columns = ['% EQUITY', 'EQUITY', 'CASH', 'FEES']"
   ]
  },
  {
   "cell_type": "markdown",
   "metadata": {},
   "source": [
    "Inspect detailed backtest results per timestep:"
   ]
  },
  {
   "cell_type": "code",
   "execution_count": 37,
   "metadata": {},
   "outputs": [
    {
     "data": {
      "text/html": [
       "<div>\n",
       "<style scoped>\n",
       "    .dataframe tbody tr th:only-of-type {\n",
       "        vertical-align: middle;\n",
       "    }\n",
       "\n",
       "    .dataframe tbody tr th {\n",
       "        vertical-align: top;\n",
       "    }\n",
       "\n",
       "    .dataframe thead th {\n",
       "        text-align: right;\n",
       "    }\n",
       "</style>\n",
       "<table border=\"1\" class=\"dataframe\">\n",
       "  <thead>\n",
       "    <tr style=\"text-align: right;\">\n",
       "      <th></th>\n",
       "      <th>% EQUITY</th>\n",
       "      <th>EQUITY</th>\n",
       "      <th>CASH</th>\n",
       "      <th>FEES</th>\n",
       "    </tr>\n",
       "  </thead>\n",
       "  <tbody>\n",
       "    <tr>\n",
       "      <th>1990-12-30</th>\n",
       "      <td>100.000000</td>\n",
       "      <td>1.000000e+06</td>\n",
       "      <td>1000000.000000</td>\n",
       "      <td>0.0</td>\n",
       "    </tr>\n",
       "    <tr>\n",
       "      <th>1990-12-31</th>\n",
       "      <td>100.000000</td>\n",
       "      <td>1.000000e+06</td>\n",
       "      <td>1000000.000000</td>\n",
       "      <td>0.0</td>\n",
       "    </tr>\n",
       "    <tr>\n",
       "      <th>1991-01-02</th>\n",
       "      <td>100.000000</td>\n",
       "      <td>1.000000e+06</td>\n",
       "      <td>5.511876</td>\n",
       "      <td>0.0</td>\n",
       "    </tr>\n",
       "    <tr>\n",
       "      <th>1991-01-03</th>\n",
       "      <td>100.338921</td>\n",
       "      <td>1.003389e+06</td>\n",
       "      <td>5.511876</td>\n",
       "      <td>0.0</td>\n",
       "    </tr>\n",
       "    <tr>\n",
       "      <th>1991-01-04</th>\n",
       "      <td>100.000000</td>\n",
       "      <td>1.000000e+06</td>\n",
       "      <td>5.511876</td>\n",
       "      <td>0.0</td>\n",
       "    </tr>\n",
       "    <tr>\n",
       "      <th>1991-01-07</th>\n",
       "      <td>98.332153</td>\n",
       "      <td>9.833215e+05</td>\n",
       "      <td>5.511876</td>\n",
       "      <td>0.0</td>\n",
       "    </tr>\n",
       "    <tr>\n",
       "      <th>1991-01-08</th>\n",
       "      <td>97.217283</td>\n",
       "      <td>9.721728e+05</td>\n",
       "      <td>5.511876</td>\n",
       "      <td>0.0</td>\n",
       "    </tr>\n",
       "    <tr>\n",
       "      <th>1991-01-09</th>\n",
       "      <td>95.317543</td>\n",
       "      <td>9.531754e+05</td>\n",
       "      <td>5.511876</td>\n",
       "      <td>0.0</td>\n",
       "    </tr>\n",
       "    <tr>\n",
       "      <th>1991-01-10</th>\n",
       "      <td>96.655388</td>\n",
       "      <td>9.665539e+05</td>\n",
       "      <td>5.511876</td>\n",
       "      <td>0.0</td>\n",
       "    </tr>\n",
       "    <tr>\n",
       "      <th>1991-01-11</th>\n",
       "      <td>96.432414</td>\n",
       "      <td>9.643241e+05</td>\n",
       "      <td>5.511876</td>\n",
       "      <td>0.0</td>\n",
       "    </tr>\n",
       "  </tbody>\n",
       "</table>\n",
       "</div>"
      ],
      "text/plain": [
       "              % EQUITY        EQUITY            CASH  FEES\n",
       "1990-12-30  100.000000  1.000000e+06  1000000.000000   0.0\n",
       "1990-12-31  100.000000  1.000000e+06  1000000.000000   0.0\n",
       "1991-01-02  100.000000  1.000000e+06        5.511876   0.0\n",
       "1991-01-03  100.338921  1.003389e+06        5.511876   0.0\n",
       "1991-01-04  100.000000  1.000000e+06        5.511876   0.0\n",
       "1991-01-07   98.332153  9.833215e+05        5.511876   0.0\n",
       "1991-01-08   97.217283  9.721728e+05        5.511876   0.0\n",
       "1991-01-09   95.317543  9.531754e+05        5.511876   0.0\n",
       "1991-01-10   96.655388  9.665539e+05        5.511876   0.0\n",
       "1991-01-11   96.432414  9.643241e+05        5.511876   0.0"
      ]
     },
     "execution_count": 37,
     "metadata": {},
     "output_type": "execute_result"
    }
   ],
   "source": [
    "backtest_sma_base_ibm_details.head(10)"
   ]
  },
  {
   "cell_type": "markdown",
   "metadata": {},
   "source": [
    "Visualize each strategie's backtest equity progression over time:"
   ]
  },
  {
   "cell_type": "code",
   "execution_count": 38,
   "metadata": {},
   "outputs": [
    {
     "data": {
      "image/png": "[encoded data removed]",
      "text/plain": [
       "<Figure size 1080x360 with 1 Axes>"
      ]
     },
     "metadata": {
      "needs_background": "light"
     },
     "output_type": "display_data"
    }
   ],
   "source": [
    "plt.rcParams['figure.figsize'] = [15, 5]\n",
    "fig = plt.figure()\n",
    "ax = fig.add_subplot(111)\n",
    "\n",
    "ax.plot(backtest_sma_15_ibm_details['% EQUITY'], color='C2',lw=1.0, label='15-day SMAV strategy (red)')\n",
    "ax.plot(backtest_sma_60_ibm_details['% EQUITY'], color='C1',lw=1.0, label='60-day SMAV strategy (green)')\n",
    "ax.plot(backtest_sma_base_ibm_details['% EQUITY'], color='C3',lw=1.0, label='Base SMAV strategy (purple)')\n",
    "\n",
    "for tick in ax.get_xticklabels():\n",
    "    tick.set_rotation(45)\n",
    "    \n",
    "# set axis labels\n",
    "ax.set_xlabel('[time]', fontsize=10)\n",
    "ax.set_xlim([pd.to_datetime('01-01-1990'), pd.to_datetime('31-12-2017')])\n",
    "ax.set_ylabel('[equity %]', fontsize=10)\n",
    "\n",
    "# set plot legend\n",
    "plt.legend(loc=\"upper left\", numpoints=1, fancybox=True)\n",
    "\n",
    "# set plot title\n",
    "plt.title('International Business Machines Corporation (IBM) - Backtest % Equity Progression', fontsize=10);"
   ]
  },
  {
   "cell_type": "markdown",
   "metadata": {},
   "source": [
    "## Lab Exercises:"
   ]
  },
  {
   "cell_type": "markdown",
   "metadata": {},
   "source": [
    "We recommend you to try the following exercises as part of the lab:"
   ]
  },
  {
   "cell_type": "markdown",
   "metadata": {},
   "source": [
    "**1. Evaluation of distinct daily moving average parameters.**\n",
    "\n",
    "> Evaluate the simple crossover moving average trading strategy using distinct moving average look-backs, e.g., 10 days, 30 days, 50 days, 200 days and 300 days. Compare the performance of the lookback parametrizations in terms of total-return, equity progression and yearly sharpe-ratio. Gain an intuition about the years in which the strategy didn't perform well and the potential reason for the poor performance."
   ]
  },
  {
   "cell_type": "code",
   "execution_count": 39,
   "metadata": {},
   "outputs": [],
   "source": [
    "# ***************************************************\n",
    "# INSERT YOUR CODE HERE\n",
    "# ***************************************************"
   ]
  },
  {
   "cell_type": "markdown",
   "metadata": {},
   "source": [
    "**2. Evaluation of distinct trading frequencies.** \n",
    "\n",
    ">Decreasing the lookback in calculating the moving average may results in a significant increase of the corresponding trading frequency (referred to as 'signal changes', and defined as a change of the trading signal from -1 to 1 and vice versa). Calculate the number of signal changes for each of the distinct lookback parametrizations evaluated in the first exercise."
   ]
  },
  {
   "cell_type": "code",
   "execution_count": 40,
   "metadata": {},
   "outputs": [],
   "source": [
    "# ***************************************************\n",
    "# INSERT YOUR CODE HERE\n",
    "# ***************************************************"
   ]
  },
  {
   "cell_type": "markdown",
   "metadata": {},
   "source": [
    "**3. Consideration of trading commissions and impact on strategy performance.** \n",
    "\n",
    ">Run the backtest of the lookback parametrizations evaluated in exercise 1. but include commission per trade. Set the trading commission of each backtest to 10 USD per trade (hint: you may want to use the `bt` backtest objects `set_commission()` function). Determine the impact of such a trading fee on the performance of each strategy in terms of total-return, equity progression and yearly sharpe-ratio."
   ]
  },
  {
   "cell_type": "code",
   "execution_count": 41,
   "metadata": {},
   "outputs": [],
   "source": [
    "# ***************************************************\n",
    "# INSERT YOUR CODE HERE\n",
    "# ***************************************************"
   ]
  },
  {
   "cell_type": "markdown",
   "metadata": {},
   "source": [
    "**4. Optimization of the simple crossover moving average trading strategy parameters.**\n",
    "\n",
    ">The lab notebook backtest results obtained for the simple crossover moving average trading strategy reveals that we didn't identify a well-performing strategy parametrization yet. Grid search the parameter space of the strategy to determine a parametrization that results in a positive total-return within the time interval 30.12.1990 until 31.12.2017."
   ]
  },
  {
   "cell_type": "code",
   "execution_count": 42,
   "metadata": {},
   "outputs": [],
   "source": [
    "# ***************************************************\n",
    "# INSERT YOUR CODE HERE\n",
    "# ***************************************************"
   ]
  },
  {
   "cell_type": "markdown",
   "metadata": {},
   "source": [
    "**5. Implementation of a long-/short-term exponential moving average trading strategy.**\n",
    "\n",
    ">A potential further enhancement of the simple crossover moving average trading strategy lies in the application of exponentially weighted moving averages. Adapt the crossover trading strategy of this notebook using an exponential moving average instead of the equally weighted moving average (hint: you may want to use the `ewm()` of the Pandas library). Evaluate the performance of the exponential moving average trading strategy using distinct alpha parameters, e.g.: 0.2, 0.5 and 0.8. "
   ]
  },
  {
   "cell_type": "code",
   "execution_count": 43,
   "metadata": {},
   "outputs": [],
   "source": [
    "# ***************************************************\n",
    "# INSERT YOUR CODE HERE\n",
    "# ***************************************************"
   ]
  },
  {
   "cell_type": "markdown",
   "metadata": {},
   "source": [
    "## Lab Summary:"
   ]
  },
  {
   "cell_type": "markdown",
   "metadata": {},
   "source": [
    "In this lab, a step by step implementation and backtest of a basic **moving average trading strategy** using the Python programming language is presented. The implemented strategy trades a specific financial instrument based on its adjusted closing price trend. The degree of success of the implemented strategy is evaluated based os its backtest results with particular focus on (1) the strategy's **total return** as well as (2) its **equity progression** over time. The code provided in this lab provides a blueprint to develop and backtest more complex trading strategies. It furthermore can be tailored to be applied for momentum trading of other financial instruments."
   ]
  },
  {
   "cell_type": "markdown",
   "metadata": {},
   "source": [
    "You may want to execute the content of your lab outside of the Jupyter notebook environment, e.g. on a compute node or a server. The cell below converts the lab notebook into a standalone and executable python script. Pls. note that to convert the notebook, you need to install Python's **nbconvert** library and its extensions:"
   ]
  },
  {
   "cell_type": "code",
   "execution_count": 44,
   "metadata": {},
   "outputs": [
    {
     "name": "stdout",
     "output_type": "stream",
     "text": [
      "/bin/sh: pip: command not found\n",
      "/bin/sh: pip: command not found\n"
     ]
    }
   ],
   "source": [
    "# installing the nbconvert library\n",
    "!pip install nbconvert\n",
    "!pip install jupyter_contrib_nbextensions"
   ]
  },
  {
   "cell_type": "markdown",
   "metadata": {},
   "source": [
    "Let's now convert the Jupyter notebook into a plain Python script:"
   ]
  },
  {
   "cell_type": "code",
   "execution_count": 45,
   "metadata": {},
   "outputs": [
    {
     "name": "stdout",
     "output_type": "stream",
     "text": [
      "[NbConvertApp] Converting notebook azek_lab_01.ipynb to script\n",
      "[NbConvertApp] Writing 23995 bytes to azek_lab_01.py\n"
     ]
    }
   ],
   "source": [
    "!jupyter nbconvert --to script azek_lab_01.ipynb"
   ]
  }
 ],
 "metadata": {
  "kernelspec": {
   "display_name": "Python 3",
   "language": "python",
   "name": "python3"
  },
  "language_info": {
   "codemirror_mode": {
    "name": "ipython",
    "version": 3
   },
   "file_extension": ".py",
   "mimetype": "text/x-python",
   "name": "python",
   "nbconvert_exporter": "python",
   "pygments_lexer": "ipython3",
   "version": "3.7.4"
  },
  "toc": {
   "base_numbering": 1,
   "nav_menu": {},
   "number_sections": false,
   "sideBar": true,
   "skip_h1_title": false,
   "title_cell": "Table of Contents",
   "title_sidebar": "Contents",
   "toc_cell": false,
   "toc_position": {},
   "toc_section_display": true,
   "toc_window_display": false
  }
 },
 "nbformat": 4,
 "nbformat_minor": 2
}
